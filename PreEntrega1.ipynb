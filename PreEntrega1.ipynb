{
 "cells": [
  {
   "cell_type": "markdown",
   "id": "e842f219-061b-4773-a5a5-ba74b077fb1b",
   "metadata": {},
   "source": [
    "# **Generación de test cases para calidad de software a partir de las US de la API de Jira**"
   ]
  },
  {
   "cell_type": "markdown",
   "id": "73bc2e2d-2bfd-496f-9d88-f0ae07967341",
   "metadata": {},
   "source": [
    "### **Autor:** María Belén Aguirre  \n",
    "### **Curso:** Inteligencia artificial: Generación de Prompts  \n",
    "### **Nº de comisión:** 67115  \n",
    "### **Proyecto:** Generación de test cases para calidad de software a partir de las US de la API de Jira  "
   ]
  },
  {
   "cell_type": "markdown",
   "id": "f06039c4-d1a6-406a-bc40-56e9ceb7ef49",
   "metadata": {},
   "source": [
    "## **Presentación del problema a abordar**"
   ]
  },
  {
   "cell_type": "markdown",
   "id": "7b6a39e8-ccfd-457d-b589-9e776e02c2da",
   "metadata": {},
   "source": [
    "En el aseguramiento de la calidad de software, garantizar la calidad es un desafío continuo que abarca todas las etapas del ciclo de vida del software. Los equipos de calidad deben convertir las historias de usuario (User Stories, US) y sus criterios de aceptación en casos de prueba efectivos. Este proceso es manual y cosume gran cantidad de tiempo durante el Sprint, especialmente en proyectos con gran cantidad de historias de usuario o para aquellos QA trabajando en varios proyectos paralelamente. Es por ello, que resultaría optimo el hecho de poder generar automaticamente al menos esos casos de prueba que son basicos para otorgar mayor tiempo al equipo a crear test cases elaborados y que requieran un razonamiento mas amplio del funcionamiento de la aplicacion. Por otro lado, poder documentar automaticamente aquellos casos basicos resulta en mayor tiempo para ejecutar los casos complejos."
   ]
  },
  {
   "cell_type": "markdown",
   "id": "7ba765c1-a108-4b1a-b5c8-7ebe5e29b2aa",
   "metadata": {},
   "source": [
    "### **¿Por qué es una problemática?**\n",
    "1. **Tiempo y recursos:** La generación manual de test cases consume tiempo que podría ser usado para realizar pruebas efectivas o avanzar en codificación de pruebas automatizadas.\n",
    "2. **Herramientas disponibles:** En algunos casos, algunas empresas no cuentan con la opción premium de JIRA por lo cual muchas funcionalidades que podrían agilizar el relavamiento de requerimientos, no se encuentran a disposición, haciendo esta etapa del proceso más dificil de trazar.\n",
    "3. **Escalabilidad:** En proyectos grandes, el volumen de trabajo aumenta exponencialmente, dificultando el seguimiento y la calidad.\n"
   ]
  },
  {
   "cell_type": "markdown",
   "id": "ab1a2fa5-d490-4379-a32f-44a4da3c65c0",
   "metadata": {},
   "source": [
    "### **Relevancia del problema**\n",
    "Automatizar este proceso permite estandarizar los test cases, reducir tiempos y asegurar que los criterios de aceptación estén completamente cubiertos, mejorando así la calidad del software entregado."
   ]
  },
  {
   "cell_type": "markdown",
   "id": "d1bf12ad-29eb-43a2-8661-e95c11d03fcc",
   "metadata": {},
   "source": [
    "## **Desarrollo de la propuesta de solución**\n",
    "\n",
    "La solución propuesta utiliza modelos de inteligencia artificial en dos fases:"
   ]
  },
  {
   "cell_type": "markdown",
   "id": "fbb81654-8887-4535-acbb-a05ad0c40327",
   "metadata": {},
   "source": [
    "### **Fase 1: Generación de test cases (Modelo texto a texto)**\n",
    "1. **Acceso a Jira API:** Obtendremos las historias de usuario y sus criterios de aceptación.\n",
    "2. **Procesamiento de texto:** Usaremos prompts diseñados para transformar cada criterio de aceptación en un test case detallado.\n",
    "3. **Documentación automatizada:** Generaremos un archivo Excel con las historias de usuario, criterios de aceptación y los test cases generados."
   ]
  },
  {
   "cell_type": "markdown",
   "id": "d8021726-9839-4068-a4a0-75d7a3a5cd6c",
   "metadata": {},
   "source": [
    "- Input: Descripción y criterios de aceptación de la historia de usuario por medio de un get a la API jira.\n",
    "  <br>\n",
    "  Ejemplo para una sección de la App que almacena piezas gráficas subidas por diseñadores y que puede ser consumida por otros roles de la app: requesters o admins.\n",
    "   <br>\n",
    "### **Criterios de Aceptación:**\n",
    "   <br>\n",
    "   \n",
    "1. **Creación de Piezas**:\n",
    "- Campo de Fecha Opcional:\n",
    "\n",
    "El campo de fecha no es obligatorio al crear una nueva pieza.\n",
    "- Validación de Fecha Futura:\n",
    "Si se selecciona una fecha, esta debe ser una fecha futura.\n",
    "No se permite seleccionar la fecha actual ni una fecha pasada para la fecha límite.\n",
    "\n",
    "2. **Edición de Piezas:**\n",
    "Edición de Fecha Definida:\n",
    "\n",
    "Si el campo de fecha ya tiene una fecha definida, se permitirá su edición.\n",
    "La fecha no se puede eliminar una vez definida; solo se permite modificarla.\n",
    "\n",
    "-Validación de Fecha Editada:\n",
    "\n",
    "La fecha editada no puede ser anterior a la fecha actual. Solo se permiten fechas futuras.\n",
    "\n",
    "-Campo de Fecha Vacío:\n",
    "\n",
    "Si el campo de fecha está vacío en la edición, no será obligatorio completarlo.\n",
    "\n",
    "3. **Permiso de Guardado:**\n",
    "\n",
    "Si ya existe una fecha actual o pasada en el campo de fecha, se debe permitir guardar la pieza incluso si se realizan cambios en otros campos.\n",
    "La validación de la fecha no dependerá de otros factores, como la subida de un boceto, el cambio de estado o cualquier otra modificación en la pieza. Guardar la pieza será posible independientemente de estos cambios.\n"
   ]
  },
  {
   "cell_type": "markdown",
   "id": "3949523d-c2e8-4444-b46e-62de7b39ac44",
   "metadata": {},
   "source": [
    "- Output: Descripción de los test cases conteniendo titulo, precondiciones para ejecutarlo, pasos para replicarlo y resultado esperado"
   ]
  },
  {
   "cell_type": "markdown",
   "id": "4ce0c575-b952-4e1f-8db5-8eea06a32c16",
   "metadata": {},
   "source": [
    "A modo de ejemplo, un posible output siguiendo el input mencionado previamente:"
   ]
  },
  {
   "cell_type": "markdown",
   "id": "9cad880e-89a9-4aff-9039-34f6743836ba",
   "metadata": {},
   "source": [
    "# Test Cases para Creación de Piezas\n",
    "\n",
    "## Caso de Prueba: Crear una pieza sin especificar una fecha\n",
    "\n",
    "### Precondición:\n",
    "Iniciar sesión como Admin, Requester o Designer.\n",
    "\n",
    "### Pasos:\n",
    "1. Navegar al formulario de creación de piezas.\n",
    "2. Completar los campos obligatorios sin ingresar una fecha.\n",
    "3. Guardar la pieza.\n",
    "\n",
    "### Resultado Esperado:\n",
    "- La pieza se guarda correctamente sin requerir una fecha.\n",
    "\n",
    "---\n",
    "\n",
    "## Caso de Prueba: Seleccionar una fecha futura al crear una pieza\n",
    "\n",
    "### Precondición:\n",
    "- Iniciar sesión como Admin, Requester o Designer.\n",
    "\n",
    "### Pasos:\n",
    "1. Navegar al formulario de creación de piezas.\n",
    "2. Completar los campos obligatorios e ingresar una fecha futura.\n",
    "3. Guardar la pieza.\n",
    "\n",
    "### Resultado Esperado:\n",
    "- La pieza se guarda correctamente con la fecha futura.\n",
    "\n",
    "---\n",
    "\n",
    "## Caso de Prueba: Seleccionar la fecha actual al crear una pieza\n",
    "\n",
    "### Precondición:\n",
    "- Iniciar sesión como Admin, Requester o Designer.\n",
    "\n",
    "### Pasos:\n",
    "1. Navegar al formulario de creación de piezas.\n",
    "2. Completar los campos obligatorios e ingresar la fecha actual.\n",
    "3. Guardar la pieza.\n",
    "\n",
    "### Resultado Esperado:\n",
    "- Aparece un mensaje de error indicando que la fecha debe ser futura.\n"
   ]
  },
  {
   "cell_type": "markdown",
   "id": "0c18c183-740c-4173-9c4c-45952b22ea25",
   "metadata": {},
   "source": [
    "### **Fase 2: Representación visual (Modelo texto a imagen)**\n",
    "1. **Flujograma de test cases:** A partir de los test cases generados, usaremos un modelo de texto a imagen para crear un flujograma que visualice el flujo de validaciones y pruebas.\n",
    "2. **Prompts para texto a imagen:** Estos prompts describirán los pasos y la relación entre ellos para estructurar el diagrama."
   ]
  },
  {
   "cell_type": "markdown",
   "id": "d4ade366-cefd-41d8-984c-1a9f3bca5566",
   "metadata": {},
   "source": [
    "**Ejemplo de Prompt:**\n",
    "- Input: \"Flujo de validación: Paso 1: Verificar botón visible, Paso 2: Descargar archivo, Paso 3: Confirmar mensaje de éxito.\"\n",
    "- Output: Un flujograma de funcionalidades del sistema que representa estos pasos y sus conexiones."
   ]
  },
  {
   "attachments": {
    "7d43a162-e01b-473f-a9bd-03bfa8dc9ed1.png": {
     "image/png": "[encoded data removed]"
    }
   },
   "cell_type": "markdown",
   "id": "81f87271-dd2b-43ba-b630-2c300a6e2148",
   "metadata": {},
   "source": [
    "![image.png](attachment:7d43a162-e01b-473f-a9bd-03bfa8dc9ed1.png)"
   ]
  },
  {
   "cell_type": "markdown",
   "id": "ee3f0bf0-5d2e-428c-8310-e302c4550bce",
   "metadata": {},
   "source": [
    "### **Viabilidad técnica**\n",
    "1. **Herramientas y recursos:** \n",
    "   - Disponemos de acceso a la API de Jira para obtener las historias de usuario.\n",
    "   - Los modelos de OpenAI (GPT para texto a texto y mymap.ai para texto a imagen) son accesibles y bien documentados.\n",
    "   - Herramientas como Python, Pandas y Excel facilitan la automatización de documentos."
   ]
  },
  {
   "cell_type": "markdown",
   "id": "38a4fabc-77a4-4371-988f-51a90de78b70",
   "metadata": {},
   "source": [
    "### **Justificación de las elecciones**\n",
    "- **Uso de IA:** Los modelos son adecuados para generar texto detallado y visualizaciones precisas, optimizando tareas que normalmente ante proyectos de gran escala demandan mucha inversión de tiempo.\n",
    "- **Automatización:** Reducirá significativamente los tiempos de generación de casos de prueba y documentación. Permitiendo aprovechar dicho tiempo para ejecutar casos de prueba, avanzar en codificación de pruebas automáticas o asistir cualquier bug de prioridad urgente.\n",
    "- **Impacto:** El proyecto no solo aborda un problema práctico, sino que también sirve como demostración del poder de la inteligencia artificial en la mejora de procesos de QA."
   ]
  },
  {
   "cell_type": "code",
   "execution_count": null,
   "id": "ed8655b2-e07b-4d4a-be1c-ddf29f59f239",
   "metadata": {},
   "outputs": [],
   "source": []
  }
 ],
 "metadata": {
  "kernelspec": {
   "display_name": "Python 3 (ipykernel)",
   "language": "python",
   "name": "python3"
  },
  "language_info": {
   "codemirror_mode": {
    "name": "ipython",
    "version": 3
   },
   "file_extension": ".py",
   "mimetype": "text/x-python",
   "name": "python",
   "nbconvert_exporter": "python",
   "pygments_lexer": "ipython3",
   "version": "3.13.0"
  }
 },
 "nbformat": 4,
 "nbformat_minor": 5
}
